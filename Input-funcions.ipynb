{
  "metadata": {
    "kernelspec": {
      "language": "python",
      "display_name": "Python 3",
      "name": "python3"
    },
    "language_info": {
      "pygments_lexer": "ipython3",
      "nbconvert_exporter": "python",
      "version": "3.6.4",
      "file_extension": ".py",
      "codemirror_mode": {
        "name": "ipython",
        "version": 3
      },
      "name": "python",
      "mimetype": "text/x-python"
    },
    "kaggle": {
      "accelerator": "none",
      "dataSources": [],
      "isInternetEnabled": true,
      "language": "python",
      "sourceType": "notebook",
      "isGpuEnabled": false
    },
    "colab": {
      "name": "Input in Python.py",
      "provenance": [],
      "include_colab_link": true
    }
  },
  "nbformat_minor": 0,
  "nbformat": 4,
  "cells": [
    {
      "cell_type": "markdown",
      "metadata": {
        "id": "view-in-github",
        "colab_type": "text"
      },
      "source": [
        "<a href=\"https://colab.research.google.com/github/pavansb09/Python_Project/blob/main/Input-funcions.ipynb\" target=\"_parent\"><img src=\"https://colab.research.google.com/assets/colab-badge.svg\" alt=\"Open In Colab\"/></a>"
      ]
    },
    {
      "cell_type": "code",
      "source": [
        "name=input(\"enter your name:\")\n",
        "print(\"Welcome\",name)"
      ],
      "metadata": {
        "_uuid": "8f2839f25d086af736a60e9eeb907d3b93b6e0e5",
        "_cell_guid": "b1076dfc-b9ad-4769-8c92-a6c4dae69d19",
        "trusted": true,
        "id": "fqPYI8Iv2mRL",
        "outputId": "703299e2-7892-4a0b-fe68-8c8ba32623fc",
        "colab": {
          "base_uri": "https://localhost:8080/"
        }
      },
      "outputs": [
        {
          "output_type": "stream",
          "name": "stdout",
          "text": [
            "enter your name:Dolly\n",
            "Welcome Dolly\n"
          ]
        }
      ],
      "execution_count": null
    },
    {
      "cell_type": "code",
      "source": [
        "# Print 2 input function &sum,mult,div,sub\n",
        "try:\n",
        "    first = int(input(\"First number:\"))\n",
        "    second = int(input(\"Second number:\"))\n",
        "\n",
        "    print(\"sum=\", first + second)\n",
        "    print(\"mult=\", first * second)\n",
        "    print(\"div=\", first / second)\n",
        "    print(\"sub=\", first - second)\n",
        "except ValueError:\n",
        "    print(\"Invalid input. Please enter numbers only.\")\n",
        "except ZeroDivisionError:\n",
        "    print(\"Cannot divide by zero.\")\n"
      ],
      "metadata": {
        "colab": {
          "base_uri": "https://localhost:8080/"
        },
        "id": "M9c8qEAE4rcI",
        "outputId": "d163cfed-74c0-45de-da04-11e8778aa224"
      },
      "execution_count": 3,
      "outputs": [
        {
          "output_type": "stream",
          "name": "stdout",
          "text": [
            "First number:54\n",
            "Second number:54\n",
            "sum= 108\n",
            "mult= 2916\n",
            "div= 1.0\n",
            "sub= 0\n"
          ]
        }
      ]
    }
  ]
}